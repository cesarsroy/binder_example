{
 "cells": [
  {
   "cell_type": "code",
   "execution_count": 4,
   "metadata": {},
   "outputs": [],
   "source": [
    "import ipywidgets as ipw"
   ]
  },
  {
   "cell_type": "code",
   "execution_count": 11,
   "metadata": {},
   "outputs": [
    {
     "data": {
      "application/vnd.jupyter.widget-view+json": {
       "model_id": "b0fb96e968854069a573bb245018476c",
       "version_major": 2,
       "version_minor": 0
      },
      "text/plain": [
       "VBox(children=(Text(value='', placeholder='Write your Name'), Button(button_style='success', description='Upda…"
      ]
     },
     "metadata": {},
     "output_type": "display_data"
    }
   ],
   "source": [
    "input = ipw.Text(placeholder='Write your Name')\n",
    "button = ipw.Button(description='Update',button_style='success')\n",
    "output = ipw.HTML()\n",
    "\n",
    "\n",
    "def show_name(event):\n",
    "    output.value = f'''\n",
    "    <h1> Name written is {input.value}</h1>'''\n",
    "    \n",
    "button.on_click(show_name)\n",
    "\n",
    "ipw.VBox([input,button,output])"
   ]
  }
 ],
 "metadata": {
  "interpreter": {
   "hash": "2bd95ebeeb17c67ba90f740cad0157208feaa2e1fb11010e88faff0078733e68"
  },
  "kernelspec": {
   "display_name": "Python 3.9.7 ('voila')",
   "language": "python",
   "name": "python3"
  },
  "language_info": {
   "codemirror_mode": {
    "name": "ipython",
    "version": 3
   },
   "file_extension": ".py",
   "mimetype": "text/x-python",
   "name": "python",
   "nbconvert_exporter": "python",
   "pygments_lexer": "ipython3",
   "version": "3.10.0"
  },
  "orig_nbformat": 4,
  "voila": {
   "theme": "dark"
  }
 },
 "nbformat": 4,
 "nbformat_minor": 2
}
